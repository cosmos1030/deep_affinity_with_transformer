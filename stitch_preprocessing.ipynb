{
 "cells": [
  {
   "cell_type": "code",
   "execution_count": 2,
   "metadata": {},
   "outputs": [
    {
     "name": "stdout",
     "output_type": "stream",
     "text": [
      "1\n"
     ]
    }
   ],
   "source": [
    "print(1)"
   ]
  },
  {
   "cell_type": "code",
   "execution_count": 1,
   "metadata": {},
   "outputs": [],
   "source": [
    "smiles = []\n",
    "with open(\"raw/chemicals.v5.0.tsv\", 'r+', encoding=\"ISO-8859-1\") as f:\n",
    "    for line in f:\n",
    "        smiles.append(line.strip().split('\\t')[3])"
   ]
  },
  {
   "cell_type": "code",
   "execution_count": 1,
   "metadata": {},
   "outputs": [
    {
     "ename": "NameError",
     "evalue": "name 'smiles' is not defined",
     "output_type": "error",
     "traceback": [
      "\u001b[0;31m---------------------------------------------------------------------------\u001b[0m",
      "\u001b[0;31mNameError\u001b[0m                                 Traceback (most recent call last)",
      "Cell \u001b[0;32mIn[1], line 1\u001b[0m\n\u001b[0;32m----> 1\u001b[0m \u001b[43msmiles\u001b[49m[:\u001b[38;5;241m5\u001b[39m]\n",
      "\u001b[0;31mNameError\u001b[0m: name 'smiles' is not defined"
     ]
    }
   ],
   "source": [
    "smiles[:5]"
   ]
  },
  {
   "cell_type": "code",
   "execution_count": 3,
   "metadata": {},
   "outputs": [],
   "source": [
    "smiles = smiles[1:]"
   ]
  },
  {
   "cell_type": "code",
   "execution_count": 4,
   "metadata": {},
   "outputs": [
    {
     "data": {
      "text/plain": [
       "116224359"
      ]
     },
     "execution_count": 4,
     "metadata": {},
     "output_type": "execute_result"
    }
   ],
   "source": [
    "len(smiles)"
   ]
  },
  {
   "cell_type": "code",
   "execution_count": 5,
   "metadata": {},
   "outputs": [
    {
     "name": "stdout",
     "output_type": "stream",
     "text": [
      "Saved data2/chunk_0.tsv\n"
     ]
    },
    {
     "ename": "KeyboardInterrupt",
     "evalue": "",
     "output_type": "error",
     "traceback": [
      "\u001b[0;31m---------------------------------------------------------------------------\u001b[0m",
      "\u001b[0;31mKeyboardInterrupt\u001b[0m                         Traceback (most recent call last)",
      "Cell \u001b[0;32mIn[5], line 13\u001b[0m\n\u001b[1;32m     10\u001b[0m         save_as_tsv(chunk, filename)\n\u001b[1;32m     11\u001b[0m         \u001b[38;5;28mprint\u001b[39m(\u001b[38;5;124mf\u001b[39m\u001b[38;5;124m'\u001b[39m\u001b[38;5;124mSaved \u001b[39m\u001b[38;5;132;01m{\u001b[39;00mfilename\u001b[38;5;132;01m}\u001b[39;00m\u001b[38;5;124m'\u001b[39m)\n\u001b[0;32m---> 13\u001b[0m \u001b[43msplit_and_save_list\u001b[49m\u001b[43m(\u001b[49m\u001b[43msmiles\u001b[49m\u001b[43m,\u001b[49m\u001b[43m \u001b[49m\u001b[38;5;28;43mlen\u001b[39;49m\u001b[43m(\u001b[49m\u001b[43msmiles\u001b[49m\u001b[43m)\u001b[49m\u001b[38;5;241;43m/\u001b[39;49m\u001b[38;5;241;43m/\u001b[39;49m\u001b[38;5;241;43m5\u001b[39;49m\u001b[43m)\u001b[49m\n",
      "Cell \u001b[0;32mIn[5], line 10\u001b[0m, in \u001b[0;36msplit_and_save_list\u001b[0;34m(big_list, chunk_size)\u001b[0m\n\u001b[1;32m      8\u001b[0m chunk \u001b[38;5;241m=\u001b[39m big_list[i:i \u001b[38;5;241m+\u001b[39m chunk_size]\n\u001b[1;32m      9\u001b[0m filename \u001b[38;5;241m=\u001b[39m \u001b[38;5;124mf\u001b[39m\u001b[38;5;124m'\u001b[39m\u001b[38;5;124mdata2/chunk_\u001b[39m\u001b[38;5;132;01m{\u001b[39;00mi\u001b[38;5;241m/\u001b[39m\u001b[38;5;241m/\u001b[39mchunk_size\u001b[38;5;132;01m}\u001b[39;00m\u001b[38;5;124m.tsv\u001b[39m\u001b[38;5;124m'\u001b[39m\n\u001b[0;32m---> 10\u001b[0m \u001b[43msave_as_tsv\u001b[49m\u001b[43m(\u001b[49m\u001b[43mchunk\u001b[49m\u001b[43m,\u001b[49m\u001b[43m \u001b[49m\u001b[43mfilename\u001b[49m\u001b[43m)\u001b[49m\n\u001b[1;32m     11\u001b[0m \u001b[38;5;28mprint\u001b[39m(\u001b[38;5;124mf\u001b[39m\u001b[38;5;124m'\u001b[39m\u001b[38;5;124mSaved \u001b[39m\u001b[38;5;132;01m{\u001b[39;00mfilename\u001b[38;5;132;01m}\u001b[39;00m\u001b[38;5;124m'\u001b[39m)\n",
      "Cell \u001b[0;32mIn[5], line 4\u001b[0m, in \u001b[0;36msave_as_tsv\u001b[0;34m(data, filename)\u001b[0m\n\u001b[1;32m      2\u001b[0m \u001b[38;5;28;01mwith\u001b[39;00m \u001b[38;5;28mopen\u001b[39m(filename, \u001b[38;5;124m'\u001b[39m\u001b[38;5;124mw\u001b[39m\u001b[38;5;124m'\u001b[39m, encoding\u001b[38;5;241m=\u001b[39m\u001b[38;5;124m'\u001b[39m\u001b[38;5;124mutf-8\u001b[39m\u001b[38;5;124m'\u001b[39m) \u001b[38;5;28;01mas\u001b[39;00m f:\n\u001b[1;32m      3\u001b[0m     \u001b[38;5;28;01mfor\u001b[39;00m row \u001b[38;5;129;01min\u001b[39;00m data:\n\u001b[0;32m----> 4\u001b[0m         f\u001b[38;5;241m.\u001b[39mwrite(\u001b[38;5;124;43m'\u001b[39;49m\u001b[38;5;130;43;01m\\t\u001b[39;49;00m\u001b[38;5;124;43m'\u001b[39;49m\u001b[38;5;241;43m.\u001b[39;49m\u001b[43mjoin\u001b[49m\u001b[43m(\u001b[49m\u001b[38;5;28;43mmap\u001b[39;49m\u001b[43m(\u001b[49m\u001b[38;5;28;43mstr\u001b[39;49m\u001b[43m,\u001b[49m\u001b[43m \u001b[49m\u001b[43mrow\u001b[49m\u001b[43m)\u001b[49m\u001b[43m)\u001b[49m \u001b[38;5;241m+\u001b[39m \u001b[38;5;124m'\u001b[39m\u001b[38;5;130;01m\\n\u001b[39;00m\u001b[38;5;124m'\u001b[39m)\n",
      "\u001b[0;31mKeyboardInterrupt\u001b[0m: "
     ]
    }
   ],
   "source": [
    "def save_as_tsv(data, filename):\n",
    "    with open(filename, 'w', encoding='utf-8') as f:\n",
    "        for row in data:\n",
    "            f.write('\\t'.join(map(str, row)) + '\\n')\n",
    "\n",
    "def split_and_save_list(big_list, chunk_size=10000000):\n",
    "    for i in range(0, len(big_list), chunk_size):\n",
    "        chunk = big_list[i:i + chunk_size]\n",
    "        filename = f'data2/chunk_{i//chunk_size}.tsv'\n",
    "        save_as_tsv(chunk, filename)\n",
    "        print(f'Saved {filename}')\n",
    "\n",
    "split_and_save_list(smiles, len(smiles)//5)"
   ]
  },
  {
   "cell_type": "code",
   "execution_count": 6,
   "metadata": {},
   "outputs": [
    {
     "data": {
      "text/plain": [
       "513"
      ]
     },
     "execution_count": 6,
     "metadata": {},
     "output_type": "execute_result"
    }
   ],
   "source": [
    "import gc\n",
    "smiles = None\n",
    "gc.collect()"
   ]
  },
  {
   "cell_type": "markdown",
   "metadata": {},
   "source": [
    "## 분할된 tsv 불러와서 id로 매핑"
   ]
  },
  {
   "cell_type": "code",
   "execution_count": 1,
   "metadata": {},
   "outputs": [
    {
     "name": "stdout",
     "output_type": "stream",
     "text": [
      "{'_PAD': 0, '_GO': 1, '_EOS': 2, '_UNK': 3, 'C': 4, '=': 5, '(': 6, ')': 7, 'O': 8, 'N': 9, '1': 10, '2': 11, '3': 12, '4': 13, '[': 14, ']': 15, 'S': 16, 'l': 17, 'F': 18, '-': 19, '5': 20, '+': 21, '.': 22, '6': 23, 'B': 24, 'r': 25, '#': 26, 'P': 27, 'i': 28, 'H': 29, '7': 30, 'I': 31, '8': 32, '9': 33, 'a': 34, 'e': 35, 'A': 36, 'n': 37, 's': 38, 'u': 39, 'g': 40, 'o': 41, 't': 42, 'T': 43, 'M': 44, 'Z': 45, 'b': 46, 'K': 47, 'R': 48, 'd': 49, 'W': 50, 'G': 51, 'L': 52, 'c': 53, 'h': 54, 'V': 55, 'm': 56, 'E': 57, 'Y': 58, 'U': 59, 'f': 60, 'D': 61, 'y': 62, '%': 63, '0': 64, 'p': 65, 'k': 66, 'X': 67}\n"
     ]
    }
   ],
   "source": [
    "comp2id = {}\n",
    "with open(\"data/vocab_compound\") as f:\n",
    "    for index, line in enumerate(f):\n",
    "        comp2id[line.strip()] = index\n",
    "print(comp2id)"
   ]
  },
  {
   "cell_type": "code",
   "execution_count": 2,
   "metadata": {},
   "outputs": [],
   "source": [
    "import torch\n",
    "\n",
    "def insert_padding(mylist, max_size):\n",
    "    for i, sentence in enumerate(mylist):\n",
    "        templist = [0 for _ in range(max_size-len(sentence))]\n",
    "        mylist[i] = mylist[i] + templist\n",
    "    return mylist\n",
    "\n",
    "def process_independent(mylist, max_size, file_name):\n",
    "    mylist = insert_padding(mylist, max_size)\n",
    "    mytensor = torch.tensor(mylist)\n",
    "    torch.save(mytensor, 'data2/'+file_name+\".pt\")\n",
    "    return mytensor\n",
    "\n",
    "comp_MAX_size = 100"
   ]
  },
  {
   "cell_type": "code",
   "execution_count": 3,
   "metadata": {},
   "outputs": [
    {
     "name": "stderr",
     "output_type": "stream",
     "text": [
      "Processing chunk 0: 23244871it [10:16, 37678.99it/s]\n"
     ]
    },
    {
     "ename": "RuntimeError",
     "evalue": "[enforce fail at alloc_cpu.cpp:75] err == 0. DefaultCPUAllocator: can't allocate memory: you tried to allocate 18595896800 bytes. Error code 12 (Cannot allocate memory)",
     "output_type": "error",
     "traceback": [
      "\u001b[0;31m---------------------------------------------------------------------------\u001b[0m",
      "\u001b[0;31mRuntimeError\u001b[0m                              Traceback (most recent call last)",
      "Cell \u001b[0;32mIn[3], line 22\u001b[0m\n\u001b[1;32m     19\u001b[0m         \u001b[38;5;28;01mif\u001b[39;00m \u001b[38;5;129;01mnot\u001b[39;00m skip_string:\n\u001b[1;32m     20\u001b[0m             smiles_ids\u001b[38;5;241m.\u001b[39mappend(temp)\n\u001b[0;32m---> 22\u001b[0m \u001b[43mprocess_independent\u001b[49m\u001b[43m(\u001b[49m\u001b[43msmiles_ids\u001b[49m\u001b[43m,\u001b[49m\u001b[43m \u001b[49m\u001b[43mcomp_MAX_size\u001b[49m\u001b[43m,\u001b[49m\u001b[43m \u001b[49m\u001b[38;5;124;43mf\u001b[39;49m\u001b[38;5;124;43m\"\u001b[39;49m\u001b[38;5;124;43mdata2/smiles_ids_\u001b[39;49m\u001b[38;5;132;43;01m{\u001b[39;49;00m\u001b[43mfile_num\u001b[49m\u001b[38;5;132;43;01m}\u001b[39;49;00m\u001b[38;5;124;43m\"\u001b[39;49m\u001b[43m)\u001b[49m\n\u001b[1;32m     24\u001b[0m \u001b[38;5;66;03m# 파일 처리 후 메모리 관리\u001b[39;00m\n\u001b[1;32m     25\u001b[0m smiles_ids \u001b[38;5;241m=\u001b[39m []\n",
      "Cell \u001b[0;32mIn[2], line 11\u001b[0m, in \u001b[0;36mprocess_independent\u001b[0;34m(mylist, max_size, file_name)\u001b[0m\n\u001b[1;32m      9\u001b[0m \u001b[38;5;28;01mdef\u001b[39;00m \u001b[38;5;21mprocess_independent\u001b[39m(mylist, max_size, file_name):\n\u001b[1;32m     10\u001b[0m     mylist \u001b[38;5;241m=\u001b[39m insert_padding(mylist, max_size)\n\u001b[0;32m---> 11\u001b[0m     mytensor \u001b[38;5;241m=\u001b[39m \u001b[43mtorch\u001b[49m\u001b[38;5;241;43m.\u001b[39;49m\u001b[43mtensor\u001b[49m\u001b[43m(\u001b[49m\u001b[43mmylist\u001b[49m\u001b[43m)\u001b[49m\n\u001b[1;32m     12\u001b[0m     torch\u001b[38;5;241m.\u001b[39msave(mytensor, \u001b[38;5;124m'\u001b[39m\u001b[38;5;124mdata2/\u001b[39m\u001b[38;5;124m'\u001b[39m\u001b[38;5;241m+\u001b[39mfile_name\u001b[38;5;241m+\u001b[39m\u001b[38;5;124m\"\u001b[39m\u001b[38;5;124m.pt\u001b[39m\u001b[38;5;124m\"\u001b[39m)\n\u001b[1;32m     13\u001b[0m     \u001b[38;5;28;01mreturn\u001b[39;00m mytensor\n",
      "\u001b[0;31mRuntimeError\u001b[0m: [enforce fail at alloc_cpu.cpp:75] err == 0. DefaultCPUAllocator: can't allocate memory: you tried to allocate 18595896800 bytes. Error code 12 (Cannot allocate memory)"
     ]
    }
   ],
   "source": [
    "from tqdm import tqdm\n",
    "import numpy as np\n",
    "\n",
    "for file_num in range(6):  # 0부터 5까지 파일 번호\n",
    "    file_path = f'data2/chunk_{file_num}.tsv'\n",
    "    smiles_ids = []  # 현재 파일의 결과를 저장할 리스트\n",
    "\n",
    "    with open(file_path, 'r') as f:\n",
    "        for line in tqdm(f, desc=f\"Processing chunk {file_num}\"):\n",
    "            sentence = line.strip().split('\\t')\n",
    "            temp = []\n",
    "            skip_string = False\n",
    "            for char in sentence:\n",
    "                if char not in comp2id:\n",
    "                    skip_string = True\n",
    "                    break\n",
    "                else:\n",
    "                    temp.append(comp2id[char])\n",
    "            if not skip_string:\n",
    "                smiles_ids.append(temp)\n",
    "\n",
    "    process_independent(smiles_ids, comp_MAX_size, f\"data2/smiles_ids_{file_num}\")\n",
    "\n",
    "    # 파일 처리 후 메모리 관리\n",
    "    smiles_ids = []\n",
    "    gc.collect()  # 파일 하나 처리 후 강제 가비지 컬렉션\n"
   ]
  },
  {
   "cell_type": "code",
   "execution_count": null,
   "metadata": {},
   "outputs": [],
   "source": []
  }
 ],
 "metadata": {
  "kernelspec": {
   "display_name": "cuda117",
   "language": "python",
   "name": "python3"
  },
  "language_info": {
   "codemirror_mode": {
    "name": "ipython",
    "version": 3
   },
   "file_extension": ".py",
   "mimetype": "text/x-python",
   "name": "python",
   "nbconvert_exporter": "python",
   "pygments_lexer": "ipython3",
   "version": "3.10.13"
  }
 },
 "nbformat": 4,
 "nbformat_minor": 2
}
