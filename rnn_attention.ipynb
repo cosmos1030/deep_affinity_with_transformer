{
 "cells": [
  {
   "cell_type": "code",
   "execution_count": 4,
   "metadata": {},
   "outputs": [],
   "source": [
    "import torch\n",
    "import torch.nn as nn\n",
    "from torch.utils.data import TensorDataset, DataLoader\n",
    "from torch.optim import Adam\n",
    "import torch.nn.functional as F\n",
    "from tqdm import tqdm"
   ]
  },
  {
   "cell_type": "code",
   "execution_count": 5,
   "metadata": {},
   "outputs": [],
   "source": [
    "train_sps = torch.load(\"data/train_sps.ids76.pt\")\n",
    "train_smile = torch.load(\"data/train_smile.ids68.pt\")\n",
    "train_log_ic50 = torch.load(\"data/train_ic50_log.pt\")\n",
    "\n",
    "test_sps = torch.load(\"data/test_sps.ids76.pt\")\n",
    "test_smile = torch.load(\"data/test_smile.ids68.pt\")\n",
    "test_log_ic50 = torch.load(\"data/test_ic50_log.pt\")"
   ]
  },
  {
   "cell_type": "code",
   "execution_count": 6,
   "metadata": {},
   "outputs": [],
   "source": [
    "class Attention(nn.Module):\n",
    "    def __init__(self, hidden_dim):\n",
    "        super().__init__()\n",
    "        self.hidden_dim = hidden_dim\n",
    "        self.key_layer = nn.Linear(hidden_dim, hidden_dim, bias=False)\n",
    "        self.query_layer = nn.Linear(hidden_dim, hidden_dim, bias=False)\n",
    "        self.value_layer = nn.Linear(hidden_dim, hidden_dim, bias=False)\n",
    "    def forward(self, query, key, value):\n",
    "        scores = torch.matmul(self.query_layer(query), self.key_layer(key).transpose(-2,-1)) / (self.hidden_dim ** 0.5)\n",
    "        weights = F.softmax(scores, dim=-1)\n",
    "        weighted_values = torch.matmul(weights, self.value_layer(value))\n",
    "        return weighted_values, weights\n",
    "\n",
    "class RNNAttentionModel(nn.Module):\n",
    "    def __init__(self, protein_vocab_size, drug_vocab_size, embedding_dim, hidden_dim, batch_size):\n",
    "        super().__init__()\n",
    "        self.protein_embedding = nn.Embedding(protein_vocab_size, embedding_dim)\n",
    "        self.drug_embedding = nn.Embedding(drug_vocab_size, embedding_dim)\n",
    "        self.protein_gru = nn.GRU(embedding_dim, hidden_dim, batch_first = True)\n",
    "        self.drug_gru = nn.GRU(embedding_dim, hidden_dim, batch_first = True)\n",
    "        self.attention = Attention(hidden_dim)\n",
    "        self.fc = nn.Linear(hidden_dim, 1)\n",
    "        self.batch_size = batch_size\n",
    "    def forward(self, protein_data, drug_data):\n",
    "        protein_embedded = self.protein_embedding(protein_data)\n",
    "        drug_embedded = self.drug_embedding(drug_data)\n",
    "\n",
    "        _, protein_hidden = self.protein_gru(protein_embedded)\n",
    "        _, drug_hidden = self.drug_gru(drug_embedded)\n",
    "\n",
    "        attention_output, _ = self.attention(query= protein_hidden, key= drug_hidden, value = drug_hidden)\n",
    "\n",
    "        output = self.fc(attention_output.squeeze(0))\n",
    "        return output"
   ]
  },
  {
   "cell_type": "code",
   "execution_count": 7,
   "metadata": {},
   "outputs": [],
   "source": [
    "device = torch.device(\"cuda\" if torch.cuda.is_available() else 'cpu')\n",
    "\n",
    "protein_vocab_size = 76 # 토큰 어휘집의 어휘 개수\n",
    "compound_vocab_size = 68 # 토큰 어휘집의 어휘 개수\n",
    "protein_seq_length = 152 # 한 문장의 토큰 수\n",
    "compound_seq_length = 100 # 한 문장의 토큰 수\n",
    "embedding_dim = 256\n",
    "hidden_dim = 128\n",
    "batch_size = 64"
   ]
  },
  {
   "cell_type": "code",
   "execution_count": 8,
   "metadata": {},
   "outputs": [
    {
     "data": {
      "text/plain": [
       "RNNAttentionModel(\n",
       "  (protein_embedding): Embedding(76, 256)\n",
       "  (drug_embedding): Embedding(68, 256)\n",
       "  (protein_gru): GRU(256, 128, batch_first=True)\n",
       "  (drug_gru): GRU(256, 128, batch_first=True)\n",
       "  (attention): Attention(\n",
       "    (key_layer): Linear(in_features=128, out_features=128, bias=False)\n",
       "    (query_layer): Linear(in_features=128, out_features=128, bias=False)\n",
       "    (value_layer): Linear(in_features=128, out_features=128, bias=False)\n",
       "  )\n",
       "  (fc): Linear(in_features=128, out_features=1, bias=True)\n",
       ")"
      ]
     },
     "execution_count": 8,
     "metadata": {},
     "output_type": "execute_result"
    }
   ],
   "source": [
    "model = RNNAttentionModel(protein_vocab_size, compound_vocab_size, embedding_dim, hidden_dim, batch_size)\n",
    "\n",
    "criterion = nn.MSELoss()\n",
    "optimizer = Adam(model.parameters(), lr=0.001)\n",
    "\n",
    "model.train()"
   ]
  },
  {
   "cell_type": "code",
   "execution_count": 7,
   "metadata": {},
   "outputs": [
    {
     "name": "stdout",
     "output_type": "stream",
     "text": [
      "torch.Size([263583, 152])\n",
      "torch.Size([263583, 100])\n",
      "torch.Size([263583, 1])\n"
     ]
    }
   ],
   "source": [
    "print(train_sps.shape)\n",
    "print(train_smile.shape)\n",
    "print(train_log_ic50.shape)"
   ]
  },
  {
   "cell_type": "code",
   "execution_count": 8,
   "metadata": {},
   "outputs": [
    {
     "name": "stderr",
     "output_type": "stream",
     "text": [
      "Epoch 1/10:   0%|          | 0/4119 [00:00<?, ?it/s]/home/guest1/anaconda3/envs/cuda117/lib/python3.10/site-packages/torch/nn/modules/loss.py:536: UserWarning: Using a target size (torch.Size([64, 1])) that is different to the input size (torch.Size([64])). This will likely lead to incorrect results due to broadcasting. Please ensure they have the same size.\n",
      "  return F.mse_loss(input, target, reduction=self.reduction)\n",
      "Epoch 1/10: 100%|█████████▉| 4114/4119 [01:38<00:00, 45.61it/s, avg_loss=2.24]/home/guest1/anaconda3/envs/cuda117/lib/python3.10/site-packages/torch/nn/modules/loss.py:536: UserWarning: Using a target size (torch.Size([31, 1])) that is different to the input size (torch.Size([31])). This will likely lead to incorrect results due to broadcasting. Please ensure they have the same size.\n",
      "  return F.mse_loss(input, target, reduction=self.reduction)\n",
      "Epoch 1/10: 100%|██████████| 4119/4119 [01:38<00:00, 41.65it/s, avg_loss=2.24]\n"
     ]
    },
    {
     "name": "stdout",
     "output_type": "stream",
     "text": [
      "\n",
      "Epoch 1/10, Average Loss: 2.237226895031115\n"
     ]
    },
    {
     "name": "stderr",
     "output_type": "stream",
     "text": [
      "Epoch 2/10: 100%|██████████| 4119/4119 [01:39<00:00, 41.57it/s, avg_loss=2.21]\n"
     ]
    },
    {
     "name": "stdout",
     "output_type": "stream",
     "text": [
      "\n",
      "Epoch 2/10, Average Loss: 2.2109129904369382\n"
     ]
    },
    {
     "name": "stderr",
     "output_type": "stream",
     "text": [
      "Epoch 3/10: 100%|██████████| 4119/4119 [01:41<00:00, 40.68it/s, avg_loss=2.2] \n"
     ]
    },
    {
     "name": "stdout",
     "output_type": "stream",
     "text": [
      "\n",
      "Epoch 3/10, Average Loss: 2.197214842710891\n"
     ]
    },
    {
     "name": "stderr",
     "output_type": "stream",
     "text": [
      "Epoch 4/10: 100%|██████████| 4119/4119 [01:35<00:00, 43.07it/s, avg_loss=2.19]\n"
     ]
    },
    {
     "name": "stdout",
     "output_type": "stream",
     "text": [
      "\n",
      "Epoch 4/10, Average Loss: 2.192933060787754\n"
     ]
    },
    {
     "name": "stderr",
     "output_type": "stream",
     "text": [
      "Epoch 5/10: 100%|██████████| 4119/4119 [01:40<00:00, 41.18it/s, avg_loss=2.19]\n"
     ]
    },
    {
     "name": "stdout",
     "output_type": "stream",
     "text": [
      "\n",
      "Epoch 5/10, Average Loss: 2.191176624979953\n"
     ]
    },
    {
     "name": "stderr",
     "output_type": "stream",
     "text": [
      "Epoch 6/10: 100%|██████████| 4119/4119 [01:38<00:00, 41.79it/s, avg_loss=2.19]\n"
     ]
    },
    {
     "name": "stdout",
     "output_type": "stream",
     "text": [
      "\n",
      "Epoch 6/10, Average Loss: 2.189303324129374\n"
     ]
    },
    {
     "name": "stderr",
     "output_type": "stream",
     "text": [
      "Epoch 7/10: 100%|██████████| 4119/4119 [01:23<00:00, 49.38it/s, avg_loss=2.19]\n"
     ]
    },
    {
     "name": "stdout",
     "output_type": "stream",
     "text": [
      "\n",
      "Epoch 7/10, Average Loss: 2.194268701897862\n"
     ]
    },
    {
     "name": "stderr",
     "output_type": "stream",
     "text": [
      "Epoch 8/10: 100%|██████████| 4119/4119 [01:34<00:00, 43.65it/s, avg_loss=2.19]\n"
     ]
    },
    {
     "name": "stdout",
     "output_type": "stream",
     "text": [
      "\n",
      "Epoch 8/10, Average Loss: 2.186499913417763\n"
     ]
    },
    {
     "name": "stderr",
     "output_type": "stream",
     "text": [
      "Epoch 9/10: 100%|██████████| 4119/4119 [01:40<00:00, 40.83it/s, avg_loss=2.19]\n"
     ]
    },
    {
     "name": "stdout",
     "output_type": "stream",
     "text": [
      "\n",
      "Epoch 9/10, Average Loss: 2.1875531939112696\n"
     ]
    },
    {
     "name": "stderr",
     "output_type": "stream",
     "text": [
      "Epoch 10/10: 100%|██████████| 4119/4119 [01:37<00:00, 42.39it/s, avg_loss=2.19]"
     ]
    },
    {
     "name": "stdout",
     "output_type": "stream",
     "text": [
      "\n",
      "Epoch 10/10, Average Loss: 2.185867531550223\n"
     ]
    },
    {
     "name": "stderr",
     "output_type": "stream",
     "text": [
      "\n"
     ]
    }
   ],
   "source": [
    "batch_size = 64\n",
    "shuffle = True\n",
    "\n",
    "dataset = TensorDataset(train_sps, train_smile, train_log_ic50)\n",
    "data_loader = DataLoader(dataset, batch_size= batch_size, shuffle=shuffle, pin_memory=True)\n",
    "\n",
    "num_epochs = 10\n",
    "\n",
    "# 훈련 시작\n",
    "for epoch in range(num_epochs):\n",
    "    model.to(device)\n",
    "    model.train()  # 모델을 훈련 모드로 설정\n",
    "    total_loss = 0.0  # 에폭별 총 손실을 추적\n",
    "    \n",
    "    # tqdm을 사용하여 진행 상황 막대 표시\n",
    "    progress_bar = tqdm(enumerate(data_loader), total=len(data_loader), desc=f\"Epoch {epoch+1}/{num_epochs}\")\n",
    "    \n",
    "    for batch_idx, (sps, smile, log_ic50) in progress_bar:\n",
    "        sps = sps.to(device)\n",
    "        smile = smile.to(device)\n",
    "        log_ic50 = log_ic50.to(device)\n",
    "\n",
    "        optimizer.zero_grad()  # 그라디언트 초기화\n",
    "        \n",
    "        output = model(sps, smile) # drug sequence에서 look ahead mask는 필요가 없음\n",
    "        \n",
    "        loss = criterion(output.squeeze(), log_ic50.float())\n",
    "        \n",
    "        loss.backward()\n",
    "        optimizer.step()\n",
    "\n",
    "        total_loss += loss.item()\n",
    "\n",
    "        # 진행률 막대에 현재 평균 손실 표시\n",
    "        progress_bar.set_postfix({'avg_loss': total_loss / (batch_idx + 1)})\n",
    "    \n",
    "    avg_loss = total_loss / len(data_loader)\n",
    "    print(f\"\\nEpoch {epoch+1}/{num_epochs}, Average Loss: {avg_loss}\")"
   ]
  },
  {
   "cell_type": "code",
   "execution_count": 10,
   "metadata": {},
   "outputs": [
    {
     "name": "stderr",
     "output_type": "stream",
     "text": [
      "/home/guest1/anaconda3/envs/cuda117/lib/python3.10/site-packages/torch/nn/modules/loss.py:536: UserWarning: Using a target size (torch.Size([64, 1])) that is different to the input size (torch.Size([64])). This will likely lead to incorrect results due to broadcasting. Please ensure they have the same size.\n",
      "  return F.mse_loss(input, target, reduction=self.reduction)\n"
     ]
    },
    {
     "name": "stdout",
     "output_type": "stream",
     "text": [
      "Test Average Loss: 1.4563189104590484\n"
     ]
    },
    {
     "name": "stderr",
     "output_type": "stream",
     "text": [
      "/home/guest1/anaconda3/envs/cuda117/lib/python3.10/site-packages/torch/nn/modules/loss.py:536: UserWarning: Using a target size (torch.Size([16, 1])) that is different to the input size (torch.Size([16])). This will likely lead to incorrect results due to broadcasting. Please ensure they have the same size.\n",
      "  return F.mse_loss(input, target, reduction=self.reduction)\n"
     ]
    }
   ],
   "source": [
    "test_dataset = TensorDataset(test_sps, test_smile, test_log_ic50)\n",
    "test_loader = DataLoader(test_dataset, batch_size=batch_size, shuffle=False)\n",
    "model.eval()\n",
    "\n",
    "total_loss = 0.0\n",
    "total_samples = 0\n",
    "\n",
    "with torch.no_grad():\n",
    "    for sps, smile, log_ic50 in test_loader:\n",
    "        sps = sps.to(device)\n",
    "        smile = smile.to(device)\n",
    "        log_ic50 = log_ic50.to(device)\n",
    "\n",
    "        output = model(sps, smile)\n",
    "        loss = criterion(output.squeeze(), log_ic50.float())\n",
    "\n",
    "        total_loss += loss.item() * sps.size(0)\n",
    "        total_samples += sps.size(0)\n",
    "\n",
    "avg_loss = total_loss / total_samples\n",
    "\n",
    "print(f\"Test Average Loss: {avg_loss**0.5}\")"
   ]
  },
  {
   "cell_type": "code",
   "execution_count": null,
   "metadata": {},
   "outputs": [],
   "source": []
  }
 ],
 "metadata": {
  "kernelspec": {
   "display_name": "cuda117",
   "language": "python",
   "name": "python3"
  },
  "language_info": {
   "codemirror_mode": {
    "name": "ipython",
    "version": 3
   },
   "file_extension": ".py",
   "mimetype": "text/x-python",
   "name": "python",
   "nbconvert_exporter": "python",
   "pygments_lexer": "ipython3",
   "version": "3.10.13"
  }
 },
 "nbformat": 4,
 "nbformat_minor": 2
}
