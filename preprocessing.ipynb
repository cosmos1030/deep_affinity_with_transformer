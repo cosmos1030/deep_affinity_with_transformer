{
 "cells": [
  {
   "cell_type": "code",
   "execution_count": 6,
   "metadata": {},
   "outputs": [],
   "source": [
    "import torch"
   ]
  },
  {
   "cell_type": "code",
   "execution_count": 7,
   "metadata": {},
   "outputs": [],
   "source": [
    "def file2list(file_path):\n",
    "    mylist = []\n",
    "    with open(file_path, 'r') as f:\n",
    "        for line in f:\n",
    "            templist = line.strip().split()\n",
    "            templist = list(map(int, templist))\n",
    "            mylist.append(templist)\n",
    "    return mylist\n",
    "\n",
    "def insert_padding(mylist, max_size):\n",
    "    for i, sentence in enumerate(mylist):\n",
    "        templist = [0 for _ in range(max_size-len(sentence))]\n",
    "        mylist[i] = mylist[i] + templist\n",
    "    return mylist\n",
    "\n",
    "def process_independent(file_name, max_size):\n",
    "    mylist = file2list('raw/'+file_name)\n",
    "    mylist = insert_padding(mylist, max_size)\n",
    "    mytensor = torch.tensor(mylist)\n",
    "    torch.save(mytensor, 'data/'+file_name+\".pt\")\n",
    "    return mytensor"
   ]
  },
  {
   "cell_type": "code",
   "execution_count": 8,
   "metadata": {},
   "outputs": [],
   "source": [
    "def process_dependent(file_name):\n",
    "    mylist = []\n",
    "    with open(\"raw/\"+file_name) as f:\n",
    "        for line in f:\n",
    "            mylist.append([float(line.strip())])\n",
    "    mytensor = torch.tensor(mylist)\n",
    "    torch.save(mytensor, 'data/'+file_name+\"_log.pt\")\n",
    "    return mytensor"
   ]
  },
  {
   "cell_type": "code",
   "execution_count": 9,
   "metadata": {},
   "outputs": [],
   "source": [
    "comp_MAX_size = 100\n",
    "protein_MAX_size = 152"
   ]
  },
  {
   "cell_type": "code",
   "execution_count": 10,
   "metadata": {},
   "outputs": [
    {
     "data": {
      "text/plain": [
       "tensor([[5.1754],\n",
       "        [6.1739],\n",
       "        [6.0315],\n",
       "        ...,\n",
       "        [5.6990],\n",
       "        [5.5744],\n",
       "        [3.6990]])"
      ]
     },
     "execution_count": 10,
     "metadata": {},
     "output_type": "execute_result"
    }
   ],
   "source": [
    "process_independent('test_smile.ids68', comp_MAX_size)\n",
    "process_independent('test_sps.ids76', protein_MAX_size)\n",
    "process_independent('train_smile.ids68', comp_MAX_size)\n",
    "process_independent('train_sps.ids76', protein_MAX_size)\n",
    "\n",
    "process_dependent(\"test_ic50\")\n",
    "process_dependent(\"train_ic50\")"
   ]
  },
  {
   "cell_type": "code",
   "execution_count": null,
   "metadata": {},
   "outputs": [],
   "source": []
  }
 ],
 "metadata": {
  "kernelspec": {
   "display_name": "cuda117",
   "language": "python",
   "name": "python3"
  },
  "language_info": {
   "codemirror_mode": {
    "name": "ipython",
    "version": 3
   },
   "file_extension": ".py",
   "mimetype": "text/x-python",
   "name": "python",
   "nbconvert_exporter": "python",
   "pygments_lexer": "ipython3",
   "version": "3.10.13"
  }
 },
 "nbformat": 4,
 "nbformat_minor": 2
}
