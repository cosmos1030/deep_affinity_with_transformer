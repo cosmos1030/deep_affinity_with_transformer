{
 "cells": [
  {
   "cell_type": "code",
   "execution_count": 1,
   "metadata": {},
   "outputs": [
    {
     "name": "stdout",
     "output_type": "stream",
     "text": [
      "{'_PAD': 0, '_GO': 1, '_EOS': 2, '_UNK': 3, 'C': 4, '=': 5, '(': 6, ')': 7, 'O': 8, 'N': 9, '1': 10, '2': 11, '3': 12, '4': 13, '[': 14, ']': 15, 'S': 16, 'l': 17, 'F': 18, '-': 19, '5': 20, '+': 21, '.': 22, '6': 23, 'B': 24, 'r': 25, '#': 26, 'P': 27, 'i': 28, 'H': 29, '7': 30, 'I': 31, '8': 32, '9': 33, 'a': 34, 'e': 35, 'A': 36, 'n': 37, 's': 38, 'u': 39, 'g': 40, 'o': 41, 't': 42, 'T': 43, 'M': 44, 'Z': 45, 'b': 46, 'K': 47, 'R': 48, 'd': 49, 'W': 50, 'G': 51, 'L': 52, 'c': 53, 'h': 54, 'V': 55, 'm': 56, 'E': 57, 'Y': 58, 'U': 59, 'f': 60, 'D': 61, 'y': 62, '%': 63, '0': 64, 'p': 65, 'k': 66, 'X': 67}\n"
     ]
    }
   ],
   "source": [
    "comp2id = {}\n",
    "with open(\"raw/vocab_compound\") as f:\n",
    "    for index, line in enumerate(f):\n",
    "        comp2id[line.strip()] = index\n",
    "print(comp2id)"
   ]
  },
  {
   "cell_type": "code",
   "execution_count": 2,
   "metadata": {},
   "outputs": [],
   "source": [
    "import torch\n",
    "\n",
    "def insert_padding(mylist, max_size):\n",
    "    for i, sentence in enumerate(mylist):\n",
    "        templist = [0 for _ in range(max_size-len(sentence))]\n",
    "        mylist[i] = mylist[i] + templist\n",
    "    return mylist\n",
    "\n",
    "def process_independent(mylist, max_size, file_name):\n",
    "    mylist = insert_padding(mylist, max_size)\n",
    "    mytensor = torch.tensor(mylist)\n",
    "    torch.save(mytensor, 'data2/'+file_name+\".pt\")\n",
    "    return mytensor\n",
    "\n",
    "comp_MAX_size = 100"
   ]
  },
  {
   "cell_type": "code",
   "execution_count": 3,
   "metadata": {},
   "outputs": [
    {
     "name": "stderr",
     "output_type": "stream",
     "text": [
      "Processing chunk 0: 23244871it [01:15, 306571.85it/s]\n"
     ]
    },
    {
     "ename": "",
     "evalue": "",
     "output_type": "error",
     "traceback": [
      "\u001b[1;31mThe Kernel crashed while executing code in the current cell or a previous cell. \n",
      "\u001b[1;31mPlease review the code in the cell(s) to identify a possible cause of the failure. \n",
      "\u001b[1;31mClick <a href='https://aka.ms/vscodeJupyterKernelCrash'>here</a> for more info. \n",
      "\u001b[1;31mView Jupyter <a href='command:jupyter.viewOutput'>log</a> for further details."
     ]
    }
   ],
   "source": [
    "from tqdm import tqdm\n",
    "import numpy as np\n",
    "import gc\n",
    "\n",
    "for file_num in range(6):  # 0부터 5까지 파일 번호\n",
    "    file_path = f'intermediate/chunk_{file_num}.tsv'\n",
    "    smiles_ids = []  # 현재 파일의 결과를 저장할 리스트\n",
    "\n",
    "    with open(file_path, 'r') as f:\n",
    "        for line in tqdm(f, desc=f\"Processing chunk {file_num}\"):\n",
    "            sentence = line.strip().split('\\t')[0]  # 수정: SMILES 문자열만 추출\n",
    "            temp = []\n",
    "            skip_string = False\n",
    "            for char in sentence:\n",
    "                if char not in comp2id:\n",
    "                    skip_string = True\n",
    "                    break\n",
    "                else:\n",
    "                    temp.append(comp2id[char])\n",
    "            if not skip_string and len(temp) <= comp_MAX_size:  # 수정: 길이 조건 추가\n",
    "                smiles_ids.append(temp)\n",
    "\n",
    "    process_independent(smiles_ids, comp_MAX_size, f\"processed/smiles_ids_{file_num}\")\n",
    "\n",
    "    # 파일 처리 후 메모리 관리\n",
    "    smiles_ids = []\n",
    "    gc.collect()  # 파일 하나 처리 후 강제 가비지 컬렉션\n"
   ]
  },
  {
   "cell_type": "code",
   "execution_count": null,
   "metadata": {},
   "outputs": [],
   "source": []
  }
 ],
 "metadata": {
  "kernelspec": {
   "display_name": "cuda117",
   "language": "python",
   "name": "cuda117"
  },
  "language_info": {
   "codemirror_mode": {
    "name": "ipython",
    "version": 3
   },
   "file_extension": ".py",
   "mimetype": "text/x-python",
   "name": "python",
   "nbconvert_exporter": "python",
   "pygments_lexer": "ipython3",
   "version": "3.10.13"
  }
 },
 "nbformat": 4,
 "nbformat_minor": 2
}
